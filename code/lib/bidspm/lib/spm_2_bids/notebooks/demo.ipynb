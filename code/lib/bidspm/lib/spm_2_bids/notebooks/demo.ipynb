{
 "cells": [
  {
   "cell_type": "markdown",
   "source": [
    "# SPM_2_BIDS DEMO\n",
    "\n",
    "**Helping you convert your SPM output into a BIDS compliant datasets.**\n",
    "\n",
    "## BIDS filenames\n",
    "\n",
    "Ideally we would like to have the same pipeline for statistical analysis \n",
    "whether our data was preprocessed with SPM or with fmriprep (for example).\n",
    "\n",
    "This is possible under the condition that the input files for the statistical analysis are BIDS compliant: \n",
    "meaning that they follow the typical pattern of BIDS files:\n",
    "\n",
    "- pseudo \"regular expression\" : `entity-label(_entity-label)+_suffix.extension`\n",
    "\n",
    "\n",
    "- `entity`, `label`, `suffix`, `extension` are alphanumeric only (no special character): `([a-zA-Z0-9])+`\n",
    "  - suffixes can be: `T1w` or `bold` but not `T1w_skullstripped` (no underscore allowed)\n",
    "\n",
    "\n",
    "- entity and label are separated by a dash: \n",
    "  `entity-label --> ([a-zA-Z0-9])+-([a-zA-Z0-9])+`\n",
    "  - you can have: `sub-01` but not `sub-01-blind`\n",
    "  \n",
    "\n",
    "\n",
    "- entity-label pairs are separated by an underscore:\n",
    "  `entity-label(_entity-label)+ --> ([a-zA-Z0-9])+-([a-zA-Z0-9])+(_([a-zA-Z0-9])+-([a-zA-Z0-9])+)+`\n",
    "\n",
    "\n",
    "- **prefixes are not a thing in official BIDS names**\n",
    "\n",
    "BIDS has a number of [officially recognised entities](https://bids-specification.readthedocs.io/en/stable/99-appendices/04-entity-table.html) (`sub`, `ses`, `task`...) \n",
    "that must come in a specific order for each data type.\n",
    "\n",
    "BIDS derivatives adds a few more entities (`desc`, `space`, `res`...) \n",
    "and suffixes (`pseg`, `dseg`, `mask`...) \n",
    "that can be used to name and describe preprocessed data.\n",
    "\n",
    "## Typical SPM filenames\n",
    "\n",
    "SPM typically adds prefixes to filenames and concatenates them.\n",
    "\n",
    "- `r` for realigned or resliced\n",
    "- `w` for warped (often means normalized in MNI space)\n",
    "- `a` for slice time corrected images\n",
    "- `u` for unwarped\n",
    "- `s` for smoothed\n",
    "- `c1` for grey matter tissue probability maps\n",
    "- ...\n",
    "\n",
    "## SPM to BIDS\n",
    "\n",
    "spm_2_bids offers a default mapping to rename the output of raw BIDS datasets preprocessed with SPM12\n",
    "into BIDS compliant derivatives datasets, by suggesting a name for each file by removing prefixes and \n",
    "adding the appropriate entities to be added.\n",
    "\n",
    "Files are not actually renamed by spm_2_bids (yet).\n"
   ],
   "metadata": {}
  },
  {
   "cell_type": "code",
   "execution_count": 2,
   "source": [
    "run ../init_spm_2_bids.m"
   ],
   "outputs": [
    {
     "output_type": "stream",
     "name": "stdout",
     "text": [
      "Correct matlab/octave versions and added to the path!\n"
     ]
    }
   ],
   "metadata": {}
  },
  {
   "cell_type": "code",
   "execution_count": 13,
   "source": [
    "input_files = { 'sub-01_T1w_seg8.mat'; ...\n",
    "                'sub-01_task-auditory_bold_uw.mat'; ...\n",
    "                'y_sub-01_T1w.nii'; ...\n",
    "                'iy_sub-01_T1w.nii'; ...\n",
    "                'y_sub-01_T2w.nii'; ...\n",
    "                'susub-01_task-auditory_bold.nii'; ...\n",
    "                'swuasub-01_task-auditory_bold.nii'; ...\n",
    "                'c1sub-01_T1w.nii'; ...  \n",
    "                'c2sub-01_T1w.nii'; ...  \n",
    "                'c3sub-01_T1w.nii'; ...  \n",
    "                'msub-01_T1w.nii'; ...   \n",
    "                'wmsub-01_T1w.nii'; ... \n",
    "                'wsub-01_T1w.nii'; ...\n",
    "                'wc1sub-01_T1w.nii'; ... \n",
    "                'wc2sub-01_T1w.nii'; ...  \n",
    "                'wc3sub-01_T1w.nii'; ...  \n",
    "                'asub-01_task-auditory_bold.nii'; ...\n",
    "                'usub-01_task-auditory_bold.nii'; ...\n",
    "                'rp_sub-01_task-auditory_bold.nii'; ... \n",
    "                'rp_asub-01_task-auditory_bold.nii'; ...\n",
    "                'meansub-01_task-auditory_bold.nii'; ... \n",
    "                'meanusub-01_task-auditory_bold.nii'; ... \n",
    "                'meanuasub-01_task-auditory_bold.nii'; ...\n",
    "                'wsub-01_task-auditory_bold.nii'; ... \n",
    "                'wuasub-01_task-auditory_bold.nii'; ... \n",
    "                'wusub-01_task-auditory_bold.nii'; ... \n",
    "                'wrsub-01_task-auditory_bold.nii'; ... \n",
    "                'wrasub-01_task-auditory_bold.nii'; ...\n",
    "                'wmeanusub-01_task-auditory_bold.nii'; ...\n",
    "                'swsub-01_task-auditory_bold.nii'; ... \n",
    "                'swuasub-01_task-auditory_bold.nii'; ... \n",
    "                'swusub-01_task-auditory_bold.nii'; ... \n",
    "                'swrsub-01_task-auditory_bold.nii'; ... \n",
    "                'swrasub-01_task-auditory_bold.nii'; ...\n",
    "                'ssub-01_task-auditory_bold.nii'; ... \n",
    "                'suasub-01_task-auditory_bold.nii'; ... \n",
    "                'susub-01_task-auditory_bold.nii'; ... \n",
    "                'srsub-01_task-auditory_bold.nii'; ... \n",
    "                'srasub-01_task-auditory_bold.nii'; ...\n",
    "};\n",
    "           \n",
    "\n",
    "for i = 1:size(input_files, 1)\n",
    "\n",
    "    filename = spm_2_bids(input_files{i, 1});\n",
    "    \n",
    "    fprintf(1, '%s\\t-->\\t%s\\n', input_files{i, 1}, filename);\n",
    "\n",
    "end"
   ],
   "outputs": [
    {
     "output_type": "stream",
     "name": "stdout",
     "text": [
      "sub-01_T1w_seg8.mat\t-->\tsub-01_label-T1w_segparam.mat\n",
      "sub-01_task-auditory_bold_uw.mat\t-->\tsub-01_task-auditory_label-bold_unwarpparam.mat\n",
      "y_sub-01_T1w.nii\t-->\tsub-01_from-T1w_to-IXI549Space_mode-image_xfm.nii\n",
      "iy_sub-01_T1w.nii\t-->\tsub-01_from-IXI549Space_to-T1w_mode-image_xfm.nii\n",
      "y_sub-01_T2w.nii\t-->\tsub-01_from-T2w_to-IXI549Space_mode-image_xfm.nii\n",
      "susub-01_task-auditory_bold.nii\t-->\tsub-01_task-auditory_space-individual_desc-smth_bold.nii\n",
      "swuasub-01_task-auditory_bold.nii\t-->\tsub-01_task-auditory_space-IXI549Space_desc-smth_bold.nii\n",
      "c1sub-01_T1w.nii\t-->\tsub-01_space-individual_label-GM_probseg.nii\n",
      "c2sub-01_T1w.nii\t-->\tsub-01_space-individual_label-WM_probseg.nii\n",
      "c3sub-01_T1w.nii\t-->\tsub-01_space-individual_label-CSF_probseg.nii\n",
      "msub-01_T1w.nii\t-->\tsub-01_space-individual_desc-biascor_T1w.nii\n",
      "wmsub-01_T1w.nii\t-->\tsub-01_space-IXI549Space_desc-preproc_T1w.nii\n",
      "wsub-01_T1w.nii\t-->\tsub-01_space-IXI549Space_desc-preproc_T1w.nii\n",
      "wc1sub-01_T1w.nii\t-->\tsub-01_space-IXI549Space_label-GM_probseg.nii\n",
      "wc2sub-01_T1w.nii\t-->\tsub-01_space-IXI549Space_label-WM_probseg.nii\n",
      "wc3sub-01_T1w.nii\t-->\tsub-01_space-IXI549Space_label-CSF_probseg.nii\n",
      "asub-01_task-auditory_bold.nii\t-->\tsub-01_task-auditory_space-individual_desc-stc_bold.nii\n",
      "usub-01_task-auditory_bold.nii\t-->\tsub-01_task-auditory_space-individual_desc-realignUnwarp_bold.nii\n",
      "rp_sub-01_task-auditory_bold.nii\t-->\tsub-01_task-auditory_desc-confounds_regressors.tsv\n",
      "rp_asub-01_task-auditory_bold.nii\t-->\tsub-01_task-auditory_desc-confounds_regressors.tsv\n",
      "meansub-01_task-auditory_bold.nii\t-->\tsub-01_task-auditory_space-individual_desc-mean_bold.nii\n",
      "meanusub-01_task-auditory_bold.nii\t-->\tsub-01_task-auditory_space-individual_desc-mean_bold.nii\n",
      "meanuasub-01_task-auditory_bold.nii\t-->\tsub-01_task-auditory_space-individual_desc-mean_bold.nii\n",
      "wsub-01_task-auditory_bold.nii\t-->\tsub-01_task-auditory_space-IXI549Space_desc-preproc_bold.nii\n",
      "wuasub-01_task-auditory_bold.nii\t-->\tsub-01_task-auditory_space-IXI549Space_desc-preproc_bold.nii\n",
      "wusub-01_task-auditory_bold.nii\t-->\tsub-01_task-auditory_space-IXI549Space_desc-preproc_bold.nii\n",
      "wrsub-01_task-auditory_bold.nii\t-->\tsub-01_task-auditory_space-IXI549Space_desc-preproc_bold.nii\n",
      "wrasub-01_task-auditory_bold.nii\t-->\tsub-01_task-auditory_space-IXI549Space_desc-preproc_bold.nii\n",
      "wmeanusub-01_task-auditory_bold.nii\t-->\tsub-01_task-auditory_space-IXI549Space_desc-mean_bold.nii\n",
      "swsub-01_task-auditory_bold.nii\t-->\tsub-01_task-auditory_space-IXI549Space_desc-smth_bold.nii\n",
      "swuasub-01_task-auditory_bold.nii\t-->\tsub-01_task-auditory_space-IXI549Space_desc-smth_bold.nii\n",
      "swusub-01_task-auditory_bold.nii\t-->\tsub-01_task-auditory_space-IXI549Space_desc-smth_bold.nii\n",
      "swrsub-01_task-auditory_bold.nii\t-->\tsub-01_task-auditory_space-IXI549Space_desc-smth_bold.nii\n",
      "swrasub-01_task-auditory_bold.nii\t-->\tsub-01_task-auditory_space-IXI549Space_desc-smth_bold.nii\n",
      "ssub-01_task-auditory_bold.nii\t-->\tsub-01_task-auditory_space-individual_desc-smth_bold.nii\n",
      "suasub-01_task-auditory_bold.nii\t-->\tsub-01_task-auditory_space-individual_desc-smth_bold.nii\n",
      "susub-01_task-auditory_bold.nii\t-->\tsub-01_task-auditory_space-individual_desc-smth_bold.nii\n",
      "srsub-01_task-auditory_bold.nii\t-->\tsub-01_task-auditory_space-individual_desc-smth_bold.nii\n",
      "srasub-01_task-auditory_bold.nii\t-->\tsub-01_task-auditory_space-individual_desc-smth_bold.nii\n"
     ]
    }
   ],
   "metadata": {}
  },
  {
   "cell_type": "markdown",
   "source": [
    "# Override the default name map"
   ],
   "metadata": {}
  },
  {
   "cell_type": "code",
   "execution_count": 20,
   "source": [
    "map = Mapping();\n",
    "\n",
    "map = map.default();\n",
    "\n",
    "name_spec = map.cfg.preproc_norm;\n",
    "name_spec.entities.res = '1pt0';\n",
    "map = map.add_mapping('prefix', 'wm', ...\n",
    "                      'suffix',  'T1w', ...\n",
    "                      'ext', '.nii', ...\n",
    "                      'entities', struct('desc', 'skullstripped'), ...\n",
    "                      'name_spec', name_spec);\n",
    "\n",
    "name_spec = struct('suffix', 'T1w', ...\n",
    "                   'ext', '.gii', ...\n",
    "                   'entities', struct('desc', 'pialsurf'));\n",
    "map = map.add_mapping('prefix', 'c1', ...\n",
    "                      'suffix',  'T1w', ...\n",
    "                      'ext', '.surf.gii', ...\n",
    "                      'entities', '*', ... % allows any entity, if empty only prefix is used\n",
    "                      'name_spec', name_spec);\n",
    "\n",
    "map = map.flatten_mapping();\n"
   ],
   "outputs": [],
   "metadata": {}
  },
  {
   "cell_type": "code",
   "execution_count": 21,
   "source": [
    "input_output = {'c1sub-01_T1w.surf.gii'; ... % new mapping for surface data\n",
    "                'wmsub-01_desc-skullstripped_T1w.nii'; ... % new mapping for skulltripped data\n",
    "                'wmsub-01_desc-skullstripped_T2w.nii'; ... % wrong suffix: use only prefix\n",
    "                'wmsub-01_desc-preproc_T1w.nii'; ... % wrong entity: use only prefix\n",
    "                };\n",
    "\n",
    "for i = 1:size(input_output, 1)\n",
    "\n",
    "    filename = spm_2_bids(input_output{i, 1}, map);\n",
    "    \n",
    "    fprintf(1, '%s\\t-->\\t%s\\n', input_output{i, 1}, filename);\n",
    "\n",
    "end"
   ],
   "outputs": [
    {
     "output_type": "stream",
     "name": "stdout",
     "text": [
      "c1sub-01_T1w.surf.gii\t-->\tsub-01_desc-pialsurf_T1w.gii\n",
      "wmsub-01_desc-skullstripped_T1w.nii\t-->\tsub-01_space-IXI549Space_res-1pt0_desc-preproc_T1w.nii\n",
      "wmsub-01_desc-skullstripped_T2w.nii\t-->\tsub-01_space-IXI549Space_desc-preproc_T2w.nii\n",
      "wmsub-01_desc-preproc_T1w.nii\t-->\tsub-01_space-IXI549Space_desc-preproc_T1w.nii\n"
     ]
    }
   ],
   "metadata": {}
  }
 ],
 "metadata": {
  "kernelspec": {
   "display_name": "Octave",
   "language": "octave",
   "name": "octave"
  },
  "language_info": {
   "file_extension": ".m",
   "help_links": [
    {
     "text": "GNU Octave",
     "url": "https://www.gnu.org/software/octave/support.html"
    },
    {
     "text": "Octave Kernel",
     "url": "https://github.com/Calysto/octave_kernel"
    },
    {
     "text": "MetaKernel Magics",
     "url": "https://metakernel.readthedocs.io/en/latest/source/README.html"
    }
   ],
   "mimetype": "text/x-octave",
   "name": "octave",
   "version": "4.2.2"
  }
 },
 "nbformat": 4,
 "nbformat_minor": 5
}
